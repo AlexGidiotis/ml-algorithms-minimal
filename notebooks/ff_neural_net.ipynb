{
 "cells": [
  {
   "cell_type": "markdown",
   "metadata": {},
   "source": [
    "## Feed forward neural network"
   ]
  },
  {
   "cell_type": "code",
   "execution_count": 1,
   "metadata": {},
   "outputs": [],
   "source": [
    "import numpy as np\n",
    "import matplotlib.pyplot as plt\n",
    "\n",
    "from sklearn import datasets\n",
    "from sklearn.model_selection import train_test_split\n",
    "from sklearn.metrics import f1_score\n",
    "from sklearn import preprocessing"
   ]
  },
  {
   "cell_type": "markdown",
   "metadata": {},
   "source": [
    "We use the breast cancer dataset for binary classification. We are going to normalise and scale the data because certain activation functions (e.g. relu) behave poorly on unscaled data and also to achieve faster and better convergence.\n"
   ]
  },
  {
   "cell_type": "code",
   "execution_count": 2,
   "metadata": {},
   "outputs": [],
   "source": [
    "bc_data = datasets.load_breast_cancer()\n",
    "\n",
    "X = bc_data.data\n",
    "y = bc_data.target.astype(\"float\")\n",
    "X_train, X_test, y_train, y_test = train_test_split(X, y,\n",
    "                                                    test_size=0.33,\n",
    "                                                    random_state=42)\n",
    "scaler = preprocessing.StandardScaler().fit(X_train)\n",
    "X_train = scaler.transform(X_train)\n",
    "X_test = scaler.transform(X_test)"
   ]
  },
  {
   "cell_type": "markdown",
   "metadata": {},
   "source": [
    "We will implement our feed forward neural net to support an arbitrary number of layers and two activation functions for the hidden layers (relu and sigmoid). For the output layer we will have a single sigmoid unit and use the binary crossentropy loss for binary classification.\n",
    "\n",
    "We will need to implement the forward pass to make predictions and the backward pass that computes the error derivatives with respect to the weights of each layer using the backpropagation algorithm and the chain rule for derivatives."
   ]
  },
  {
   "cell_type": "code",
   "execution_count": 3,
   "metadata": {},
   "outputs": [],
   "source": [
    "class MLPModel:\n",
    "    def __init__(self):\n",
    "        self.n_layers = None\n",
    "        self.weights = None\n",
    "        self.input_dim = None\n",
    "        self.n_hidden = None\n",
    "        self.is_built = False\n",
    "\n",
    "    @staticmethod\n",
    "    def relu(x):\n",
    "        return np.maximum(x, 0)\n",
    "\n",
    "    @staticmethod\n",
    "    def sigmoid(x):\n",
    "        return 1. / (1 + np.exp(-x))\n",
    "\n",
    "    def sigmoid_backward(self, da, z):\n",
    "        sig = self.sigmoid(z)\n",
    "        return da * sig * (1 - sig)\n",
    "\n",
    "    @staticmethod\n",
    "    def relu_backward(da, z):\n",
    "        dz = np.array(da, copy=True)\n",
    "        dz[z <= 0] = 0\n",
    "        return dz\n",
    "\n",
    "    def build_model(self, input_dim, n_hidden, n_layers=2, activation=\"relu\"):\n",
    "        self.n_layers = n_layers\n",
    "        self.input_dim = input_dim\n",
    "        self.weights = []\n",
    "        self.activations = []\n",
    "        prev_d = input_dim\n",
    "        for l, d in enumerate(n_hidden):\n",
    "            w = np.random.normal(0, np.sqrt(2/prev_d), (d, prev_d))    # N(0, sqrt(2/inp_dim))\n",
    "            b = np.random.normal(0, np.sqrt(2/prev_d), (d, 1))\n",
    "\n",
    "            prev_d = d\n",
    "            self.weights.append((w, b))\n",
    "            if activation == \"relu\":\n",
    "                self.activations.append(self.relu)\n",
    "            elif activation == \"sigmoid\":\n",
    "                self.activations.append(self.sigmoid)\n",
    "            else:\n",
    "                raise(\"Unsupported activation\")\n",
    "\n",
    "        # Sigmoid output layer\n",
    "        w = np.random.normal(0, np.sqrt(2/prev_d), (1, prev_d))    # N(0, sqrt(2/inp_dim))\n",
    "        b = np.random.normal(0, np.sqrt(2/prev_d), (1, 1))\n",
    "        self.weights.append((w, b))\n",
    "        self.activations.append(self.sigmoid)\n",
    "\n",
    "        self.is_built = True\n",
    "\n",
    "    def forward(self, x):\n",
    "        h_i = x.T\n",
    "        # the initial input is the first in mem\n",
    "        z = [h_i]\n",
    "        h = [h_i]\n",
    "        for i, ((w, b), activation_fn) in enumerate(zip(self.weights, self.activations)):\n",
    "            z_i = np.dot(w, h_i) + b\n",
    "            z.append(z_i)\n",
    "            h_i = activation_fn(z_i)\n",
    "            h.append(h_i)\n",
    "\n",
    "        return np.squeeze(h_i), (z, h)\n",
    "\n",
    "    def backward(self, h, y, mem):\n",
    "        da = - (np.divide(y, h) - np.divide(1 - y, 1 - h))\n",
    "        grads = []\n",
    "        for i in range(self.n_layers, -1, -1):\n",
    "            w, b = self.weights[i]\n",
    "            activation_fn = self.activations[i]\n",
    "            # mem also has the first layer so it is i + 1\n",
    "            z_cur, h_cur = mem[0][i+1], mem[1][i+1]\n",
    "            z_prev, h_prev = mem[0][i], mem[1][i]\n",
    "            m = h_prev.shape[1]\n",
    "\n",
    "            if activation_fn.__name__ == \"relu\":\n",
    "                dz = self.relu_backward(da, z_cur)\n",
    "            elif activation_fn.__name__ == \"sigmoid\":\n",
    "                dz = self.sigmoid_backward(da, z_cur)\n",
    "            else:\n",
    "                raise(\"Unsupported activation\")\n",
    "            \n",
    "            dw = np.dot(dz, h_prev.T) / m\n",
    "            db = np.sum(dz, axis=1, keepdims=True) / m\n",
    "            da = np.dot(w.T, dz)\n",
    "\n",
    "            grads.append((dw, db))\n",
    "        \n",
    "        return grads\n",
    "\n",
    "    def update_weights(self, grads, lr):\n",
    "        grads = list(reversed(grads))    # grads have the opposite order\n",
    "        for i, (w, b) in enumerate(self.weights):\n",
    "            grad_w, grad_b = grads[i]\n",
    "            w -= lr*grad_w\n",
    "            b -= lr*grad_b\n",
    "            self.weights[i] = (w, b)\n",
    "\n",
    "    def crossentropy_loss(self, h, y, eps=1e-8):\n",
    "        m = h.shape[0]\n",
    "        # without eps log(0) will eval to nan\n",
    "        j = -(1.0 / m) * (np.dot(y, np.log(h + eps).T) + np.dot(1.0 - y, np.log(1.0 - h + eps).T))\n",
    "        return np.squeeze(j)\n"
   ]
  },
  {
   "cell_type": "markdown",
   "metadata": {},
   "source": [
    "We will train our neural net with mini batch gradient decent. We will have a simple generator to feed batches of data for training and prediction. The training will stop when we either reach the total iterations or the training loss falls bellow a threshold.\n",
    "\n",
    "When making predictions we are going to use 0.5 as our threshold for separating classes."
   ]
  },
  {
   "cell_type": "code",
   "execution_count": 4,
   "metadata": {},
   "outputs": [],
   "source": [
    "class MLPClassifier:\n",
    "    def __init__(self, n_hidden, n_layers=2, lr=0.003, activation=\"relu\"):\n",
    "        assert len(n_hidden) == n_layers\n",
    "        self.n_hidden = n_hidden\n",
    "        self.n_layers = n_layers\n",
    "        self.lr = lr\n",
    "        self.activation = activation\n",
    "        self.model = MLPModel()\n",
    "\n",
    "    def make_datagen(self, X, y=None, batch_size=16):\n",
    "        for i in range(0, len(X), batch_size):\n",
    "            x_batch = X[i:i+batch_size]\n",
    "            if y is not None:    # for training\n",
    "                y_batch = y[i:i+batch_size]\n",
    "                assert x_batch.shape[0] == y_batch.shape[0]\n",
    "                yield x_batch, y_batch\n",
    "            else:    # for prediction\n",
    "                yield x_batch\n",
    "\n",
    "    def shuffle_data(self, X, y):\n",
    "        x_temp = np.concatenate([X, np.expand_dims(y, axis=1)], axis=1)\n",
    "        np.random.shuffle(x_temp)\n",
    "        X, y = x_temp[:, :-1], np.squeeze(x_temp[:, -1])\n",
    "        return X, y\n",
    "\n",
    "    def fit(self, X_train, y_train, epochs=100, batch_size=16, tol=0.0001, shuffle=True):\n",
    "        self.model.build_model(\n",
    "                input_dim=X_train.shape[1],\n",
    "                n_layers=self.n_layers,\n",
    "                n_hidden=self.n_hidden,\n",
    "                activation=self.activation)\n",
    "        \n",
    "        epoch = 0\n",
    "        losses = []\n",
    "        avg_loss = float(\"inf\")\n",
    "        while epoch < epochs and avg_loss > tol:\n",
    "            datagen = self.make_datagen(X_train, y_train, batch_size)\n",
    "            epoch_loss = 0\n",
    "            for i, (x, y) in enumerate(datagen):\n",
    "                h, mem = self.model.forward(x)\n",
    "                loss = self.model.crossentropy_loss(h, y)\n",
    "                epoch_loss += loss\n",
    "\n",
    "                grads = self.model.backward(h, y, mem)\n",
    "\n",
    "                self.model.update_weights(grads, self.lr)\n",
    "\n",
    "            avg_loss = epoch_loss / (i+1)\n",
    "            losses.append(avg_loss)\n",
    "\n",
    "            if shuffle:\n",
    "                X_train, y_train = self.shuffle_data(X_train, y_train)\n",
    "            \n",
    "            epoch += 1\n",
    "        \n",
    "        return losses\n",
    "\n",
    "    def predict(self, X_test, batch_size=16):\n",
    "        assert self.model.is_built    # will fail if fit hasn't been called\n",
    "        datagen = self.make_datagen(X_test, batch_size=batch_size)\n",
    "        y_ret = []\n",
    "        for i, x in enumerate(datagen):\n",
    "            y_pred, _ = self.model.forward(x)\n",
    "            # threshold at 0.5\n",
    "            y_pred[y_pred >= 0.5] = 1\n",
    "            y_pred[y_pred < 0.5] = 0\n",
    "            y_ret.append(y_pred)\n",
    "\n",
    "        return np.concatenate(y_ret, axis=0)"
   ]
  },
  {
   "cell_type": "markdown",
   "metadata": {},
   "source": [
    "We will first build a model with two hidden layers (with 50 and 20 units respectively) and relu activations. Then we train our model for 100 epochs and plot the training loss curves. \n",
    "\n",
    "We can then make predictions and compute the f1 score over the test set. "
   ]
  },
  {
   "cell_type": "code",
   "execution_count": 5,
   "metadata": {},
   "outputs": [
    {
     "data": {
      "text/plain": [
       "[<matplotlib.lines.Line2D at 0x7ff2e5bb0e90>]"
      ]
     },
     "execution_count": 5,
     "metadata": {},
     "output_type": "execute_result"
    },
    {
     "data": {
      "image/png": "[encoded data removed]",
      "text/plain": [
       "<Figure size 432x288 with 1 Axes>"
      ]
     },
     "metadata": {
      "needs_background": "light"
     },
     "output_type": "display_data"
    }
   ],
   "source": [
    "mlp_clf = MLPClassifier(n_hidden=[50, 20], lr=0.003, activation=\"relu\")\n",
    "losses = mlp_clf.fit(X_train, y_train, epochs=100, batch_size=32)\n",
    "plt.plot(range(len(losses)), losses)"
   ]
  },
  {
   "cell_type": "code",
   "execution_count": 6,
   "metadata": {},
   "outputs": [],
   "source": [
    "y_r = mlp_clf.predict(X_test)"
   ]
  },
  {
   "cell_type": "code",
   "execution_count": 7,
   "metadata": {},
   "outputs": [
    {
     "data": {
      "text/plain": [
       "0.9680851063829787"
      ]
     },
     "execution_count": 7,
     "metadata": {},
     "output_type": "execute_result"
    }
   ],
   "source": [
    "f1_score(y_test, y_r, average=\"micro\")"
   ]
  },
  {
   "cell_type": "markdown",
   "metadata": {},
   "source": [
    "We can also try a model with the same architecture and sigmoid activations. This model requires a lot more training epochs to converge. Also, we can see that the f1 score over the test set is lower than the previous model. "
   ]
  },
  {
   "cell_type": "code",
   "execution_count": 14,
   "metadata": {},
   "outputs": [
    {
     "data": {
      "text/plain": [
       "[<matplotlib.lines.Line2D at 0x7ff2e0eeb1d0>]"
      ]
     },
     "execution_count": 14,
     "metadata": {},
     "output_type": "execute_result"
    },
    {
     "data": {
      "image/png": "[encoded data removed]",
      "text/plain": [
       "<Figure size 432x288 with 1 Axes>"
      ]
     },
     "metadata": {
      "needs_background": "light"
     },
     "output_type": "display_data"
    }
   ],
   "source": [
    "mlp_clf = MLPClassifier(n_hidden=[50, 20], lr=0.003, activation=\"sigmoid\")\n",
    "losses = mlp_clf.fit(X_train, y_train, epochs=300, batch_size=32)\n",
    "plt.plot(range(len(losses)), losses)"
   ]
  },
  {
   "cell_type": "code",
   "execution_count": 15,
   "metadata": {},
   "outputs": [],
   "source": [
    "y_r = mlp_clf.predict(X_test)"
   ]
  },
  {
   "cell_type": "code",
   "execution_count": 16,
   "metadata": {},
   "outputs": [
    {
     "data": {
      "text/plain": [
       "0.9361702127659575"
      ]
     },
     "execution_count": 16,
     "metadata": {},
     "output_type": "execute_result"
    }
   ],
   "source": [
    "f1_score(y_test, y_r, average=\"micro\")"
   ]
  },
  {
   "cell_type": "code",
   "execution_count": null,
   "metadata": {},
   "outputs": [],
   "source": []
  }
 ],
 "metadata": {
  "kernelspec": {
   "display_name": "Python 3",
   "language": "python",
   "name": "python3"
  },
  "language_info": {
   "codemirror_mode": {
    "name": "ipython",
    "version": 3
   },
   "file_extension": ".py",
   "mimetype": "text/x-python",
   "name": "python",
   "nbconvert_exporter": "python",
   "pygments_lexer": "ipython3",
   "version": "3.7.6"
  }
 },
 "nbformat": 4,
 "nbformat_minor": 4
}

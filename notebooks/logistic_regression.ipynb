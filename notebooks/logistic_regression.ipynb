{
 "cells": [
  {
   "cell_type": "markdown",
   "metadata": {},
   "source": [
    "## Logistic Regression"
   ]
  },
  {
   "cell_type": "code",
   "execution_count": 5,
   "metadata": {},
   "outputs": [],
   "source": [
    "import numpy as np\n",
    "import matplotlib.pyplot as plt\n",
    "\n",
    "from sklearn import datasets\n",
    "from sklearn.model_selection import train_test_split\n",
    "from sklearn.metrics import f1_score"
   ]
  },
  {
   "cell_type": "code",
   "execution_count": 3,
   "metadata": {},
   "outputs": [],
   "source": [
    "bc_data = datasets.load_breast_cancer()\n",
    "\n",
    "X = bc_data.data\n",
    "y = bc_data.target.astype(\"float\")\n",
    "X_train, X_test, y_train, y_test = train_test_split(X, y,\n",
    "                                                    test_size=0.33,\n",
    "                                                    random_state=42)"
   ]
  },
  {
   "cell_type": "code",
   "execution_count": 8,
   "metadata": {},
   "outputs": [],
   "source": [
    "class LogisticRegressionClassifier:\n",
    "    def __init__(self, l2=0., lr=0.003):\n",
    "        self.l2 = l2\n",
    "        self.lr = lr\n",
    "        self.theta = None\n",
    "\n",
    "    @staticmethod\n",
    "    def sigmoid(x):\n",
    "        return 1. / (1 + np.exp(-x))\n",
    "\n",
    "    def make_datagen(self, X, y=None, batch_size=16):\n",
    "        for i in range(0, len(X), batch_size):\n",
    "            x_batch = X[i:i+batch_size]\n",
    "            if y is not None:    # for training\n",
    "                y_batch = y[i:i+batch_size]\n",
    "                assert x_batch.shape[0] == y_batch.shape[0]\n",
    "                yield x_batch, y_batch\n",
    "            else:    # for prediction\n",
    "                yield x_batch\n",
    "\n",
    "    def predict_batch(self, x):\n",
    "        h = np.dot(x, self.theta)\n",
    "        return self.sigmoid(h)\n",
    "\n",
    "    def compute_loss(self, h, y, eps=1e-8):\n",
    "        m = h.shape[0]\n",
    "        # without eps log(0) will eval to nan\n",
    "        j = (1.0 / m) * np.sum(-y * np.log(h + eps) - (1.0 - y) * np.log(1.0 - h + eps))\n",
    "        j += (self.l2 / 2.) * np.linalg.norm(self.theta, 2)    # l2 regularization\n",
    "        return j\n",
    "\n",
    "    def compute_grad(self, x, h, y):\n",
    "        m = h.shape[0]\n",
    "        return (1. / m) * np.dot(x.T, (h - y))\n",
    "\n",
    "    def update_weights(self, grad):\n",
    "        self.theta = self.theta - self.lr * grad\n",
    "\n",
    "    def shuffle_data(self, X, y):\n",
    "        # concat x and y to shuffle together\n",
    "        x_temp = np.concatenate([X, np.expand_dims(y, axis=1)], axis=1)\n",
    "        np.random.shuffle(x_temp)\n",
    "        return x_temp[:, :-1], np.squeeze(x_temp[:, -1])\n",
    "\n",
    "    def fit(self, X_train, y_train, epochs=100, batch_size=16, tol=0.0001, shuffle=True):\n",
    "        epoch = 0\n",
    "        losses = []\n",
    "        epoch_loss = float(\"inf\")    # to check convergence\n",
    "        self.theta = np.random.rand(X_train.shape[1])    # random init\n",
    "        while epoch < epochs and epoch_loss > tol:\n",
    "            datagen = self.make_datagen(X_train, y_train, batch_size=batch_size)    # yield batches of data\n",
    "            epoch_losses = []    # to avg losses across epoch\n",
    "            for i, (x, y) in enumerate(datagen):\n",
    "                y_pred = self.predict_batch(x)\n",
    "                loss = self.compute_loss(y_pred, y)\n",
    "                epoch_losses.append(loss)\n",
    "\n",
    "                grad = self.compute_grad(x, y_pred, y)\n",
    "                self.update_weights(grad)\n",
    "\n",
    "                epoch_loss = sum(epoch_losses)/(i+1)    # avg. epoch loss\n",
    "            losses.append(epoch_loss)\n",
    "\n",
    "            if shuffle:    # shuffle at epochs end\n",
    "                X_train, y_train = self.shuffle_data(X_train, y_train)\n",
    "\n",
    "            epoch += 1\n",
    "\n",
    "        return losses\n",
    "\n",
    "    def predict(self, X_test, batch_size=16):\n",
    "        assert self.theta is not None    # will fail if fit hasn't been called\n",
    "        datagen = self.make_datagen(X_test, batch_size=batch_size)\n",
    "        y_ret = []\n",
    "        for i, x in enumerate(datagen):\n",
    "            y_pred = self.predict_batch(x)\n",
    "            # threshold at 0.5\n",
    "            y_pred[y_pred >= 0.5] = 1\n",
    "            y_pred[y_pred < 0.5] = 0\n",
    "            y_ret.append(y_pred)\n",
    "\n",
    "        return np.concatenate(y_ret, axis=0)"
   ]
  },
  {
   "cell_type": "code",
   "execution_count": 9,
   "metadata": {},
   "outputs": [
    {
     "name": "stderr",
     "output_type": "stream",
     "text": [
      "/home/alex/.local/lib/python3.7/site-packages/ipykernel_launcher.py:9: RuntimeWarning: overflow encountered in exp\n",
      "  if __name__ == '__main__':\n"
     ]
    },
    {
     "data": {
      "text/plain": [
       "[<matplotlib.lines.Line2D at 0x7fd1ac0278d0>]"
      ]
     },
     "execution_count": 9,
     "metadata": {},
     "output_type": "execute_result"
    },
    {
     "data": {
      "image/png": "[encoded data removed]",
      "text/plain": [
       "<Figure size 432x288 with 1 Axes>"
      ]
     },
     "metadata": {
      "needs_background": "light"
     },
     "output_type": "display_data"
    }
   ],
   "source": [
    "logreg_clf = LogisticRegressionClassifier(l2=0.001)\n",
    "losses = logreg_clf.fit(X_train, y_train, epochs=100, batch_size=16)\n",
    "plt.plot(range(len(losses)), losses)"
   ]
  },
  {
   "cell_type": "code",
   "execution_count": 10,
   "metadata": {},
   "outputs": [
    {
     "name": "stderr",
     "output_type": "stream",
     "text": [
      "/home/alex/.local/lib/python3.7/site-packages/ipykernel_launcher.py:9: RuntimeWarning: overflow encountered in exp\n",
      "  if __name__ == '__main__':\n"
     ]
    }
   ],
   "source": [
    "y_r = logreg_clf.predict(X_test)"
   ]
  },
  {
   "cell_type": "code",
   "execution_count": 11,
   "metadata": {},
   "outputs": [
    {
     "data": {
      "text/plain": [
       "0.5585106382978723"
      ]
     },
     "execution_count": 11,
     "metadata": {},
     "output_type": "execute_result"
    }
   ],
   "source": [
    "f1_score(y_test, y_r, average=\"micro\")"
   ]
  },
  {
   "cell_type": "code",
   "execution_count": null,
   "metadata": {},
   "outputs": [],
   "source": []
  }
 ],
 "metadata": {
  "kernelspec": {
   "display_name": "Python 3",
   "language": "python",
   "name": "python3"
  },
  "language_info": {
   "codemirror_mode": {
    "name": "ipython",
    "version": 3
   },
   "file_extension": ".py",
   "mimetype": "text/x-python",
   "name": "python",
   "nbconvert_exporter": "python",
   "pygments_lexer": "ipython3",
   "version": "3.7.6"
  }
 },
 "nbformat": 4,
 "nbformat_minor": 4
}

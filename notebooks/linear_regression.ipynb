{
 "cells": [
  {
   "cell_type": "markdown",
   "metadata": {},
   "source": [
    "## Linear Regression"
   ]
  },
  {
   "cell_type": "code",
   "execution_count": 1,
   "metadata": {},
   "outputs": [],
   "source": [
    "import numpy as np\n",
    "import matplotlib.pyplot as plt\n",
    "\n",
    "from sklearn import datasets\n",
    "from sklearn.model_selection import train_test_split\n",
    "from sklearn.metrics import mean_squared_error\n",
    "from sklearn import preprocessing"
   ]
  },
  {
   "cell_type": "code",
   "execution_count": 2,
   "metadata": {},
   "outputs": [],
   "source": [
    "# Load the diabetes dataset\n",
    "diabetes_X, diabetes_y = datasets.load_diabetes(return_X_y=True)\n",
    "\n",
    "# Use only one feature\n",
    "diabetes_X = diabetes_X[:, :1]\n",
    "X_train, X_test, y_train, y_test = train_test_split(diabetes_X,\n",
    "                                                    diabetes_y,\n",
    "                                                    test_size=0.33,\n",
    "                                                    random_state=42)\n",
    "scaler = preprocessing.StandardScaler().fit(X_train)\n",
    "X_train = scaler.transform(X_train)\n",
    "X_test = scaler.transform(X_test)"
   ]
  },
  {
   "cell_type": "code",
   "execution_count": 3,
   "metadata": {},
   "outputs": [],
   "source": [
    "class LinearRegressor:\n",
    "    def __init__(self, l2=0., lr=0.003):\n",
    "        self.theta = None\n",
    "        self.beta = None\n",
    "        self.lr = lr\n",
    "        self.l2 = l2\n",
    "\n",
    "    def shuffle_data(self, X, y):\n",
    "        x_temp = np.concatenate([X, np.expand_dims(y, axis=1)], axis=1)\n",
    "        np.random.shuffle(x_temp)\n",
    "        X, y = x_temp[:, :-1], np.squeeze(x_temp[:, -1])\n",
    "        return X, y\n",
    "\n",
    "    def create_datagen(self, X, y=None, batch_size=16):\n",
    "        for i in range(0, len(X), batch_size):\n",
    "            x_batch = X[i:i+batch_size]\n",
    "\n",
    "            if y is not None:\n",
    "                y_batch = y[i:i+batch_size]\n",
    "                yield x_batch, y_batch\n",
    "            else:\n",
    "                yield x_batch\n",
    "\n",
    "    def predict_batch(self, X):\n",
    "        return np.dot(X, self.theta) + self.beta\n",
    "\n",
    "    def compute_loss(self, h, y):\n",
    "        m = len(h)\n",
    "        z = (1. / m) * sum((y - h)**2)\n",
    "        z += (self.l2 / 2.) * np.linalg.norm(self.theta, 2)\n",
    "        return z\n",
    "\n",
    "    def compute_grad(self, h, y, X):\n",
    "        m = len(h)\n",
    "        theta_grad = (-2. / m) * sum(np.dot(X.T, (y - h)))\n",
    "        b_grad = (-2. / m) * sum(y - h)\n",
    "        return theta_grad, b_grad\n",
    "\n",
    "    def update_weights(self, theta_grad, b_grad):\n",
    "        self.theta -= self.lr * theta_grad\n",
    "        self.beta -= self.lr * b_grad\n",
    "\n",
    "    def fit(self, X_train, y_train, epochs=100, batch_size=16, tol=0.0001, shuffle=True):\n",
    "        d = X_train.shape[1]\n",
    "        self.theta = np.random.rand(d)\n",
    "        self.beta = np.random.rand(1)\n",
    "        avg_loss = float(\"inf\")\n",
    "        losses = []\n",
    "        epoch = 0\n",
    "        while epoch < epochs and avg_loss > tol:\n",
    "            datagen = self.create_datagen(X_train, y_train, batch_size)\n",
    "            epoch_losses = []\n",
    "            for i, (x, y) in enumerate(datagen):\n",
    "                y_pred = self.predict_batch(x)\n",
    "                \n",
    "                loss = self.compute_loss(y_pred, y)\n",
    "                epoch_losses.append(loss)\n",
    "\n",
    "                theta_grad, b_grad = self.compute_grad(y_pred, y, x)\n",
    "                self.update_weights(theta_grad, b_grad)\n",
    "\n",
    "            avg_loss = sum(epoch_losses) / (i + 1)\n",
    "            losses.append(avg_loss)\n",
    "\n",
    "            if shuffle:\n",
    "                X_train, y_train = self.shuffle_data(X_train, y_train)\n",
    "            \n",
    "            epoch += 1\n",
    "\n",
    "        return losses\n",
    "\n",
    "    def predict(self, X_test, batch_size=16):\n",
    "        assert self.theta is not None\n",
    "        datagen = self.create_datagen(X_test, batch_size=batch_size)\n",
    "        y_ret = []\n",
    "        for x in datagen:\n",
    "            y_pred = self.predict_batch(x)\n",
    "            y_ret.append(y_pred)\n",
    "\n",
    "        return np.concatenate(y_ret, axis=0)"
   ]
  },
  {
   "cell_type": "code",
   "execution_count": 4,
   "metadata": {},
   "outputs": [
    {
     "data": {
      "text/plain": [
       "[<matplotlib.lines.Line2D at 0x7f2df11211d0>]"
      ]
     },
     "execution_count": 4,
     "metadata": {},
     "output_type": "execute_result"
    },
    {
     "data": {
      "image/png": "[encoded data removed]",
      "text/plain": [
       "<Figure size 432x288 with 1 Axes>"
      ]
     },
     "metadata": {
      "needs_background": "light"
     },
     "output_type": "display_data"
    }
   ],
   "source": [
    "linreg = LinearRegressor(l2=0.003)\n",
    "losses = linreg.fit(X_train, y_train, epochs=100, batch_size=16)\n",
    "plt.plot(range(len(losses)), losses)"
   ]
  },
  {
   "cell_type": "code",
   "execution_count": 5,
   "metadata": {},
   "outputs": [
    {
     "data": {
      "text/plain": [
       "5494.93334980309"
      ]
     },
     "execution_count": 5,
     "metadata": {},
     "output_type": "execute_result"
    }
   ],
   "source": [
    "y_pred = linreg.predict(X_test)\n",
    "mean_squared_error(y_test, y_pred)"
   ]
  },
  {
   "cell_type": "code",
   "execution_count": 6,
   "metadata": {},
   "outputs": [
    {
     "data": {
      "text/plain": [
       "[<matplotlib.lines.Line2D at 0x7f2df45d9650>]"
      ]
     },
     "execution_count": 6,
     "metadata": {},
     "output_type": "execute_result"
    },
    {
     "data": {
      "image/png": "[encoded data removed]",
      "text/plain": [
       "<Figure size 432x288 with 1 Axes>"
      ]
     },
     "metadata": {
      "needs_background": "light"
     },
     "output_type": "display_data"
    }
   ],
   "source": [
    "plt.scatter(X_test, y_test, color=\"black\")\n",
    "plt.plot(X_test, y_pred, color=\"blue\", linewidth=3)"
   ]
  },
  {
   "cell_type": "code",
   "execution_count": null,
   "metadata": {},
   "outputs": [],
   "source": []
  }
 ],
 "metadata": {
  "kernelspec": {
   "display_name": "Python 3",
   "language": "python",
   "name": "python3"
  },
  "language_info": {
   "codemirror_mode": {
    "name": "ipython",
    "version": 3
   },
   "file_extension": ".py",
   "mimetype": "text/x-python",
   "name": "python",
   "nbconvert_exporter": "python",
   "pygments_lexer": "ipython3",
   "version": "3.7.6"
  }
 },
 "nbformat": 4,
 "nbformat_minor": 4
}
